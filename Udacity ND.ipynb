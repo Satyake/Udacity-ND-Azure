{
 "cells": [
  {
   "cell_type": "code",
   "execution_count": 1,
   "metadata": {},
   "outputs": [
    {
     "name": "stderr",
     "output_type": "stream",
     "text": [
      "Failure while loading azureml_run_type_providers. Failed to load entrypoint hyperdrive = azureml.train.hyperdrive:HyperDriveRun._from_run_dto with exception (azureml-core 1.44.0 (c:\\users\\satya\\anaconda3\\envs\\tf-gpu-cuda8\\lib\\site-packages), Requirement.parse('azureml-core~=1.43.0'), {'azureml-telemetry'}).\n",
      "Failure while loading azureml_run_type_providers. Failed to load entrypoint automl = azureml.train.automl.run:AutoMLRun._from_run_dto with exception (azureml-core 1.44.0 (c:\\users\\satya\\anaconda3\\envs\\tf-gpu-cuda8\\lib\\site-packages), Requirement.parse('azureml-core~=1.43.0'), {'azureml-train-core'}).\n",
      "Failure while loading azureml_run_type_providers. Failed to load entrypoint azureml.PipelineRun = azureml.pipeline.core.run:PipelineRun._from_dto with exception (azureml-core 1.44.0 (c:\\users\\satya\\anaconda3\\envs\\tf-gpu-cuda8\\lib\\site-packages), Requirement.parse('azureml-core~=1.43.0')).\n",
      "Failure while loading azureml_run_type_providers. Failed to load entrypoint azureml.ReusedStepRun = azureml.pipeline.core.run:StepRun._from_reused_dto with exception (azureml-core 1.44.0 (c:\\users\\satya\\anaconda3\\envs\\tf-gpu-cuda8\\lib\\site-packages), Requirement.parse('azureml-core~=1.43.0')).\n",
      "Failure while loading azureml_run_type_providers. Failed to load entrypoint azureml.StepRun = azureml.pipeline.core.run:StepRun._from_dto with exception (azureml-core 1.44.0 (c:\\users\\satya\\anaconda3\\envs\\tf-gpu-cuda8\\lib\\site-packages), Requirement.parse('azureml-core~=1.43.0')).\n"
     ]
    }
   ],
   "source": [
    "from azureml.core import Workspace, Experiment, Run, Datastore, Dataset, Environment"
   ]
  },
  {
   "cell_type": "code",
   "execution_count": 3,
   "metadata": {},
   "outputs": [],
   "source": [
    "#used my own azure pay as go account.\n",
    "\n",
    "#workspace=Workspace.create(name='azuremlsdk-ws01',subscription_id='1db33695-8135-4616-9bb4-9574b401d454',\n",
    "#resource_group='azuremlsdk-rg01',create_resource_group=True,\n",
    "#location='eastus2')\n",
    "\n",
    "workspace=Workspace.from_config('config.json')"
   ]
  },
  {
   "cell_type": "code",
   "execution_count": 16,
   "metadata": {},
   "outputs": [],
   "source": [
    "#registering the external datastore\n",
    "Datastore_Register=Datastore.register_azure_blob_container(workspace=workspace, datastore_name='loandatastore',account_key='Bb9kCARVNR0gHaNQqzaMLh3WC7HBrcom8ZjbSuuo8xcIQxYuXWF5isokFvsQfNwmOTlhdYcSkJY9+AStbu5jeg==',\n",
    "container_name='loans',account_name='storagerg011',create_if_not_exists=True)\n"
   ]
  },
  {
   "cell_type": "code",
   "execution_count": 4,
   "metadata": {},
   "outputs": [],
   "source": [
    "Datastore_retriveal=Datastore.get(workspace,'loandatastore')"
   ]
  },
  {
   "cell_type": "code",
   "execution_count": 31,
   "metadata": {},
   "outputs": [],
   "source": [
    "#forming directories for the container\n",
    "csv=[(Datastore_retriveal,'Loan_Default.csv')]\n",
    "dataset1=Dataset.Tabular.from_delimited_files(path=csv)\n",
    "dataset=dataset1.register(workspace,'loansdataset',create_new_version=True)\n",
    "#conveting the azure dataset to pandas dataframe\n",
    "df=dataset.to_pandas_dataframe()"
   ]
  },
  {
   "cell_type": "code",
   "execution_count": 6,
   "metadata": {},
   "outputs": [
    {
     "name": "stdout",
     "output_type": "stream",
     "text": [
      "InProgress.\n",
      "SucceededProvisioning operation finished, operation \"Succeeded\"\n",
      "Succeeded\n",
      "AmlCompute wait for completion finished\n",
      "\n",
      "Minimum number of nodes requested have been provisioned\n"
     ]
    }
   ],
   "source": [
    "from azureml.core import conda_dependencies, ScriptRunConfig\n",
    "\n",
    "#sanity checks and script setup # Library imports for the virtual machine\n",
    "experiment=Experiment(workspace,'loanexperiment')\n",
    "environment=Environment('loanenv')\n",
    "dependencies=['pandas','scikit-learn']\n",
    "mydep=conda_dependencies.CondaDependencies.create(conda_packages=dependencies)\n",
    "environment.python.conda_dependencies=mydep\n",
    "environment.register(workspace=workspace)\n",
    "#importing computes\n",
    "from azureml.core.compute import AmlCompute\n",
    "compute_name=\"cluster\"\n",
    "compute_config=AmlCompute.provisioning_configuration(vm_size='STANDARD_D2_V2', max_nodes=2,)\n",
    "compute=AmlCompute.create(workspace=workspace,name=compute_name,provisioning_configuration=compute_config)\n",
    "compute.wait_for_completion(show_output=True)\n",
    "\n",
    "\n",
    "\n",
    "\n"
   ]
  },
  {
   "cell_type": "code",
   "execution_count": 36,
   "metadata": {},
   "outputs": [
    {
     "ename": "NameError",
     "evalue": "name 'azureml' is not defined",
     "output_type": "error",
     "traceback": [
      "\u001b[1;31m---------------------------------------------------------------------------\u001b[0m",
      "\u001b[1;31mNameError\u001b[0m                                 Traceback (most recent call last)",
      "\u001b[1;32m<ipython-input-36-db41654d06d4>\u001b[0m in \u001b[0;36m<module>\u001b[1;34m\u001b[0m\n\u001b[1;32m----> 1\u001b[1;33m \u001b[0mazureml\u001b[0m\u001b[1;33m.\u001b[0m\u001b[0m_restclient\u001b[0m\u001b[1;33m.\u001b[0m\u001b[0msnapshots_client\u001b[0m\u001b[1;33m.\u001b[0m\u001b[0mSNAPSHOT_MAX_SIZE_BYTES\u001b[0m \u001b[1;33m=\u001b[0m \u001b[1;36m1000000000\u001b[0m\u001b[1;33m\u001b[0m\u001b[0m\n\u001b[0m",
      "\u001b[1;31mNameError\u001b[0m: name 'azureml' is not defined"
     ]
    }
   ],
   "source": []
  },
  {
   "cell_type": "code",
   "execution_count": 16,
   "metadata": {},
   "outputs": [
    {
     "name": "stdout",
     "output_type": "stream",
     "text": [
      "RunId: HD_1cf58c0b-ece7-4f71-8081-fdee5b6fd06d\n",
      "Web View: https://ml.azure.com/runs/HD_1cf58c0b-ece7-4f71-8081-fdee5b6fd06d?wsid=/subscriptions/1db33695-8135-4616-9bb4-9574b401d454/resourcegroups/azuremlsdk-rg01/workspaces/azuremlsdk-ws01&tid=6ad91895-de06-485e-bc51-fce126cc8530\n",
      "\n",
      "Streaming azureml-logs/hyperdrive.txt\n",
      "=====================================\n",
      "\n",
      "[2022-12-11T23:00:48.761796][GENERATOR][INFO]Trying to sample '7' jobs from the hyperparameter space\n",
      "[2022-12-11T23:00:49.3707487Z][SCHEDULER][INFO]Scheduling job, id='HD_1cf58c0b-ece7-4f71-8081-fdee5b6fd06d_0' \n",
      "[2022-12-11T23:00:49.4922248Z][SCHEDULER][INFO]Scheduling job, id='HD_1cf58c0b-ece7-4f71-8081-fdee5b6fd06d_1' \n",
      "[2022-12-11T23:00:49.6288801Z][SCHEDULER][INFO]Successfully scheduled a job. Id='HD_1cf58c0b-ece7-4f71-8081-fdee5b6fd06d_0' \n",
      "[2022-12-11T23:00:49.6427093Z][SCHEDULER][INFO]Scheduling job, id='HD_1cf58c0b-ece7-4f71-8081-fdee5b6fd06d_2' \n",
      "[2022-12-11T23:00:49.6492199Z][SCHEDULER][INFO]Successfully scheduled a job. Id='HD_1cf58c0b-ece7-4f71-8081-fdee5b6fd06d_1' \n",
      "[2022-12-11T23:00:49.7441579Z][SCHEDULER][INFO]Scheduling job, id='HD_1cf58c0b-ece7-4f71-8081-fdee5b6fd06d_3' \n",
      "[2022-12-11T23:00:49.8735483Z][SCHEDULER][INFO]Scheduling job, id='HD_1cf58c0b-ece7-4f71-8081-fdee5b6fd06d_4' \n",
      "[2022-12-11T23:00:49.9000592Z][SCHEDULER][INFO]Successfully scheduled a job. Id='HD_1cf58c0b-ece7-4f71-8081-fdee5b6fd06d_2' \n",
      "[2022-12-11T23:00:49.8909863Z][SCHEDULER][INFO]Successfully scheduled a job. Id='HD_1cf58c0b-ece7-4f71-8081-fdee5b6fd06d_3' \n",
      "[2022-12-11T23:00:49.9917262Z][SCHEDULER][INFO]Scheduling job, id='HD_1cf58c0b-ece7-4f71-8081-fdee5b6fd06d_5' \n",
      "[2022-12-11T23:00:50.068270][GENERATOR][INFO]Successfully sampled '7' jobs, they will soon be submitted to the execution target.\n",
      "[2022-12-11T23:00:50.1398823Z][SCHEDULER][INFO]Scheduling job, id='HD_1cf58c0b-ece7-4f71-8081-fdee5b6fd06d_6' \n",
      "[2022-12-11T23:00:50.1410032Z][SCHEDULER][INFO]Successfully scheduled a job. Id='HD_1cf58c0b-ece7-4f71-8081-fdee5b6fd06d_4' \n",
      "[2022-12-11T23:00:50.1653895Z][SCHEDULER][INFO]Successfully scheduled a job. Id='HD_1cf58c0b-ece7-4f71-8081-fdee5b6fd06d_5' \n",
      "[2022-12-11T23:00:50.2924598Z][SCHEDULER][INFO]Successfully scheduled a job. Id='HD_1cf58c0b-ece7-4f71-8081-fdee5b6fd06d_6' \n",
      "[2022-12-11T23:22:49.133378][GENERATOR][INFO]Trying to sample '1' jobs from the hyperparameter space\n",
      "[2022-12-11T23:22:49.3863075Z][SCHEDULER][INFO]Scheduling job, id='HD_1cf58c0b-ece7-4f71-8081-fdee5b6fd06d_7' \n",
      "[2022-12-11T23:22:49.351681][GENERATOR][INFO]Successfully sampled '1' jobs, they will soon be submitted to the execution target.\n",
      "[2022-12-11T23:22:49.8847129Z][SCHEDULER][INFO]Successfully scheduled a job. Id='HD_1cf58c0b-ece7-4f71-8081-fdee5b6fd06d_7' \n",
      "[2022-12-11T23:51:20.169470][GENERATOR][INFO]Trying to sample '1' jobs from the hyperparameter space\n",
      "[2022-12-11T23:51:20.3774502Z][SCHEDULER][INFO]Scheduling job, id='HD_1cf58c0b-ece7-4f71-8081-fdee5b6fd06d_8' \n",
      "[2022-12-11T23:51:20.336451][GENERATOR][INFO]Successfully sampled '1' jobs, they will soon be submitted to the execution target.\n",
      "[2022-12-11T23:51:20.7512734Z][SCHEDULER][INFO]Successfully scheduled a job. Id='HD_1cf58c0b-ece7-4f71-8081-fdee5b6fd06d_8' \n",
      "[2022-12-12T00:05:50.141950][GENERATOR][INFO]Trying to sample '1' jobs from the hyperparameter space\n",
      "[2022-12-12T00:05:50.4123517Z][SCHEDULER][INFO]Scheduling job, id='HD_1cf58c0b-ece7-4f71-8081-fdee5b6fd06d_9' \n",
      "[2022-12-12T00:05:50.368460][GENERATOR][INFO]Successfully sampled '1' jobs, they will soon be submitted to the execution target.\n",
      "[2022-12-12T00:05:50.8760239Z][SCHEDULER][INFO]Successfully scheduled a job. Id='HD_1cf58c0b-ece7-4f71-8081-fdee5b6fd06d_9' \n",
      "[2022-12-12T00:09:50.153266][GENERATOR][INFO]Trying to sample '1' jobs from the hyperparameter space\n",
      "[2022-12-12T00:09:50.3881850Z][SCHEDULER][INFO]Scheduling job, id='HD_1cf58c0b-ece7-4f71-8081-fdee5b6fd06d_10' \n",
      "[2022-12-12T00:09:50.339712][GENERATOR][INFO]Successfully sampled '1' jobs, they will soon be submitted to the execution target.\n",
      "[2022-12-12T00:09:50.5863936Z][SCHEDULER][INFO]Successfully scheduled a job. Id='HD_1cf58c0b-ece7-4f71-8081-fdee5b6fd06d_10' \n"
     ]
    },
    {
     "ename": "ExperimentExecutionException",
     "evalue": "ExperimentExecutionException:\n\tMessage: The output streaming for the run interrupted.\nBut the run is still executing on the compute target. \nDetails for canceling the run can be found here: https://aka.ms/aml-docs-cancel-run\n\tInnerException None\n\tErrorResponse \n{\n    \"error\": {\n        \"message\": \"The output streaming for the run interrupted.\\nBut the run is still executing on the compute target. \\nDetails for canceling the run can be found here: https://aka.ms/aml-docs-cancel-run\"\n    }\n}",
     "output_type": "error",
     "traceback": [
      "\u001b[1;31m---------------------------------------------------------------------------\u001b[0m",
      "\u001b[1;31mKeyboardInterrupt\u001b[0m                         Traceback (most recent call last)",
      "\u001b[1;32mc:\\Users\\satya\\anaconda3\\envs\\tf-gpu-cuda8\\lib\\site-packages\\azureml\\core\\run.py\u001b[0m in \u001b[0;36mwait_for_completion\u001b[1;34m(self, show_output, wait_post_processing, raise_on_error)\u001b[0m\n\u001b[0;32m    845\u001b[0m                     \u001b[0mwait_post_processing\u001b[0m\u001b[1;33m=\u001b[0m\u001b[0mwait_post_processing\u001b[0m\u001b[1;33m,\u001b[0m\u001b[1;33m\u001b[0m\u001b[0m\n\u001b[1;32m--> 846\u001b[1;33m                     raise_on_error=raise_on_error)\n\u001b[0m\u001b[0;32m    847\u001b[0m                 \u001b[1;32mreturn\u001b[0m \u001b[0mself\u001b[0m\u001b[1;33m.\u001b[0m\u001b[0mget_details\u001b[0m\u001b[1;33m(\u001b[0m\u001b[1;33m)\u001b[0m\u001b[1;33m\u001b[0m\u001b[0m\n",
      "\u001b[1;32mc:\\Users\\satya\\anaconda3\\envs\\tf-gpu-cuda8\\lib\\site-packages\\azureml\\core\\run.py\u001b[0m in \u001b[0;36m_stream_run_output\u001b[1;34m(self, file_handle, wait_post_processing, raise_on_error)\u001b[0m\n\u001b[0;32m   1041\u001b[0m             \u001b[0mfile_handle\u001b[0m\u001b[1;33m.\u001b[0m\u001b[0mflush\u001b[0m\u001b[1;33m(\u001b[0m\u001b[1;33m)\u001b[0m\u001b[1;33m\u001b[0m\u001b[0m\n\u001b[1;32m-> 1042\u001b[1;33m             \u001b[0mtime\u001b[0m\u001b[1;33m.\u001b[0m\u001b[0msleep\u001b[0m\u001b[1;33m(\u001b[0m\u001b[0mRun\u001b[0m\u001b[1;33m.\u001b[0m\u001b[0m_wait_before_polling\u001b[0m\u001b[1;33m(\u001b[0m\u001b[0mtime\u001b[0m\u001b[1;33m.\u001b[0m\u001b[0mtime\u001b[0m\u001b[1;33m(\u001b[0m\u001b[1;33m)\u001b[0m \u001b[1;33m-\u001b[0m \u001b[0mpoll_start_time\u001b[0m\u001b[1;33m)\u001b[0m\u001b[1;33m)\u001b[0m\u001b[1;33m\u001b[0m\u001b[0m\n\u001b[0m\u001b[0;32m   1043\u001b[0m             \u001b[0mself\u001b[0m\u001b[1;33m.\u001b[0m\u001b[0m_current_details\u001b[0m \u001b[1;33m=\u001b[0m \u001b[0mself\u001b[0m\u001b[1;33m.\u001b[0m\u001b[0mget_details\u001b[0m\u001b[1;33m(\u001b[0m\u001b[1;33m)\u001b[0m  \u001b[1;31m# TODO use FileWatcher\u001b[0m\u001b[1;33m\u001b[0m\u001b[0m\n",
      "\u001b[1;31mKeyboardInterrupt\u001b[0m: ",
      "\nDuring handling of the above exception, another exception occurred:\n",
      "\u001b[1;31mExperimentExecutionException\u001b[0m              Traceback (most recent call last)",
      "\u001b[1;32m<ipython-input-16-748a5741e9fa>\u001b[0m in \u001b[0;36m<module>\u001b[1;34m\u001b[0m\n\u001b[0;32m     12\u001b[0m max_concurrent_runs=7,policy=BanditPolicy(evaluation_interval=2,slack_factor=0.1))\n\u001b[0;32m     13\u001b[0m \u001b[0mnew_run\u001b[0m\u001b[1;33m=\u001b[0m\u001b[0mexperiment\u001b[0m\u001b[1;33m.\u001b[0m\u001b[0msubmit\u001b[0m\u001b[1;33m(\u001b[0m\u001b[0mhyperdrive_run\u001b[0m\u001b[1;33m,\u001b[0m\u001b[0msnapshot_directory\u001b[0m\u001b[1;33m=\u001b[0m\u001b[1;32mNone\u001b[0m\u001b[1;33m)\u001b[0m\u001b[1;33m\u001b[0m\u001b[0m\n\u001b[1;32m---> 14\u001b[1;33m \u001b[0mnew_run\u001b[0m\u001b[1;33m.\u001b[0m\u001b[0mwait_for_completion\u001b[0m\u001b[1;33m(\u001b[0m\u001b[0mshow_output\u001b[0m\u001b[1;33m=\u001b[0m\u001b[1;32mTrue\u001b[0m\u001b[1;33m)\u001b[0m\u001b[1;33m\u001b[0m\u001b[0m\n\u001b[0m",
      "\u001b[1;32mc:\\Users\\satya\\anaconda3\\envs\\tf-gpu-cuda8\\lib\\site-packages\\azureml\\core\\run.py\u001b[0m in \u001b[0;36mwait_for_completion\u001b[1;34m(self, show_output, wait_post_processing, raise_on_error)\u001b[0m\n\u001b[0;32m    852\u001b[0m                                 \u001b[1;34m\"https://aka.ms/aml-docs-cancel-run\"\u001b[0m\u001b[1;33m\u001b[0m\u001b[0m\n\u001b[0;32m    853\u001b[0m \u001b[1;33m\u001b[0m\u001b[0m\n\u001b[1;32m--> 854\u001b[1;33m                 \u001b[1;32mraise\u001b[0m \u001b[0mExperimentExecutionException\u001b[0m\u001b[1;33m(\u001b[0m\u001b[0merror_message\u001b[0m\u001b[1;33m)\u001b[0m\u001b[1;33m\u001b[0m\u001b[0m\n\u001b[0m\u001b[0;32m    855\u001b[0m         \u001b[1;32melse\u001b[0m\u001b[1;33m:\u001b[0m\u001b[1;33m\u001b[0m\u001b[0m\n\u001b[0;32m    856\u001b[0m             \u001b[0mrunning_states\u001b[0m \u001b[1;33m=\u001b[0m \u001b[0mRUNNING_STATES\u001b[0m\u001b[1;33m\u001b[0m\u001b[0m\n",
      "\u001b[1;31mExperimentExecutionException\u001b[0m: ExperimentExecutionException:\n\tMessage: The output streaming for the run interrupted.\nBut the run is still executing on the compute target. \nDetails for canceling the run can be found here: https://aka.ms/aml-docs-cancel-run\n\tInnerException None\n\tErrorResponse \n{\n    \"error\": {\n        \"message\": \"The output streaming for the run interrupted.\\nBut the run is still executing on the compute target. \\nDetails for canceling the run can be found here: https://aka.ms/aml-docs-cancel-run\"\n    }\n}"
     ]
    }
   ],
   "source": [
    "#script\n",
    "from azureml.core import ScriptRunConfig\n",
    "scriptconfig=ScriptRunConfig(source_directory='.', script='train_test_SVC.py', environment=environment, compute_target=compute, arguments=['--input-data',dataset.as_named_input('raw_data')])\n",
    "#hyperdrive\n",
    "from azureml.train.hyperdrive import RandomParameterSampling, BanditPolicy, HyperDriveConfig, PrimaryMetricGoal, choice\n",
    "param_sampling=RandomParameterSampling(\n",
    "{'C':choice(0.1,2,10,100),\n",
    "'kernel':choice('linear','rbf','poly'),\n",
    "'degree':choice(2,3,4,5,6,7,8,9,10)\n",
    "}) \n",
    "hyperdrive_run=HyperDriveConfig(run_config=scriptconfig,hyperparameter_sampling=param_sampling,primary_metric_name='Accuracy',primary_metric_goal=PrimaryMetricGoal.MAXIMIZE, max_total_runs=20,\n",
    "max_concurrent_runs=7,policy=BanditPolicy(evaluation_interval=2,slack_factor=0.1))\n",
    "new_run=experiment.submit(hyperdrive_run,snapshot_directory=None)\n",
    "new_run.wait_for_completion(show_output=True)\n"
   ]
  },
  {
   "cell_type": "code",
   "execution_count": 40,
   "metadata": {},
   "outputs": [
    {
     "name": "stdout",
     "output_type": "stream",
     "text": [
      "None\n"
     ]
    }
   ],
   "source": [
    "new_run.get_metrics()\n",
    "#get best run\n",
    "print(new_run.get_best_run_by_primary_metric())"
   ]
  },
  {
   "cell_type": "code",
   "execution_count": 34,
   "metadata": {},
   "outputs": [
    {
     "data": {
      "text/plain": [
       "{\n",
       "  \"source\": [\n",
       "    \"('loandatastore', 'Loan_Default.csv')\"\n",
       "  ],\n",
       "  \"definition\": [\n",
       "    \"GetDatastoreFiles\",\n",
       "    \"ParseDelimited\",\n",
       "    \"DropColumns\",\n",
       "    \"SetColumnTypes\"\n",
       "  ],\n",
       "  \"registration\": {\n",
       "    \"id\": \"a74ed425-18cc-4e50-854a-bb76fa21af43\",\n",
       "    \"name\": \"loansdataset\",\n",
       "    \"version\": 1,\n",
       "    \"workspace\": \"Workspace.create(name='azuremlsdk-ws01', subscription_id='1db33695-8135-4616-9bb4-9574b401d454', resource_group='azuremlsdk-rg01')\"\n",
       "  }\n",
       "}"
      ]
     },
     "execution_count": 34,
     "metadata": {},
     "output_type": "execute_result"
    }
   ],
   "source": [
    "dataset"
   ]
  },
  {
   "cell_type": "code",
   "execution_count": 37,
   "metadata": {},
   "outputs": [
    {
     "name": "stderr",
     "output_type": "stream",
     "text": [
      "WARNING:root:Received unrecognized parameter featureization\n"
     ]
    },
    {
     "name": "stdout",
     "output_type": "stream",
     "text": [
      "Submitting remote run.\n"
     ]
    },
    {
     "data": {
      "text/html": [
       "<table style=\"width:100%\"><tr><th>Experiment</th><th>Id</th><th>Type</th><th>Status</th><th>Details Page</th><th>Docs Page</th></tr><tr><td>automlrun</td><td>AutoML_77ae1acb-3af5-4ec5-8249-a670f2657692</td><td>automl</td><td>NotStarted</td><td><a href=\"https://ml.azure.com/runs/AutoML_77ae1acb-3af5-4ec5-8249-a670f2657692?wsid=/subscriptions/1db33695-8135-4616-9bb4-9574b401d454/resourcegroups/azuremlsdk-rg01/workspaces/azuremlsdk-ws01&amp;tid=6ad91895-de06-485e-bc51-fce126cc8530\" target=\"_blank\" rel=\"noopener\">Link to Azure Machine Learning studio</a></td><td><a href=\"https://docs.microsoft.com/en-us/python/api/overview/azure/ml/intro?view=azure-ml-py\" target=\"_blank\" rel=\"noopener\">Link to Documentation</a></td></tr></table>"
      ],
      "text/plain": [
       "<IPython.core.display.HTML object>"
      ]
     },
     "metadata": {},
     "output_type": "display_data"
    },
    {
     "data": {
      "text/html": [
       "<table style=\"width:100%\"><tr><th>Experiment</th><th>Id</th><th>Type</th><th>Status</th><th>Details Page</th><th>Docs Page</th></tr><tr><td>automlrun</td><td>AutoML_77ae1acb-3af5-4ec5-8249-a670f2657692</td><td>automl</td><td>NotStarted</td><td><a href=\"https://ml.azure.com/runs/AutoML_77ae1acb-3af5-4ec5-8249-a670f2657692?wsid=/subscriptions/1db33695-8135-4616-9bb4-9574b401d454/resourcegroups/azuremlsdk-rg01/workspaces/azuremlsdk-ws01&amp;tid=6ad91895-de06-485e-bc51-fce126cc8530\" target=\"_blank\" rel=\"noopener\">Link to Azure Machine Learning studio</a></td><td><a href=\"https://docs.microsoft.com/en-us/python/api/overview/azure/ml/intro?view=azure-ml-py\" target=\"_blank\" rel=\"noopener\">Link to Documentation</a></td></tr></table>"
      ],
      "text/plain": [
       "<IPython.core.display.HTML object>"
      ]
     },
     "metadata": {},
     "output_type": "display_data"
    },
    {
     "name": "stdout",
     "output_type": "stream",
     "text": [
      "\n",
      "Current status: FeaturesGeneration. Generating features for the dataset.\n",
      "Current status: DatasetFeaturization. Beginning to fit featurizers and featurize the dataset.\n",
      "Current status: DatasetFeaturizationCompleted. Completed fit featurizers and featurizing the dataset.\n",
      "Current status: ModelSelection. Beginning model selection.\n",
      "\n",
      "********************************************************************************************\n",
      "DATA GUARDRAILS: \n",
      "\n",
      "TYPE:         Class balancing detection\n",
      "STATUS:       PASSED\n",
      "DESCRIPTION:  Your inputs were analyzed, and all classes are balanced in your training data.\n",
      "              Learn more about imbalanced data: https://aka.ms/AutomatedMLImbalancedData\n",
      "\n",
      "********************************************************************************************\n",
      "\n",
      "TYPE:         Missing feature values imputation\n",
      "STATUS:       DONE\n",
      "DESCRIPTION:  If the missing values are expected, let the run complete. Otherwise cancel the current run and use a script to customize the handling of missing feature values that may be more appropriate based on the data type and business requirement.\n",
      "              Learn more about missing value imputation: https://aka.ms/AutomatedMLFeaturization\n",
      "DETAILS:      \n",
      "+------------------------------+------------------------------+------------------------------+\n",
      "|Column name                   |Missing value count           |Imputation type               |\n",
      "+==============================+==============================+==============================+\n",
      "|loan_limit                    |2523                          |                              |\n",
      "|approv_in_adv                 |665                           |                              |\n",
      "|loan_purpose                  |100                           |                              |\n",
      "|rate_of_interest              |27333                         |mean                          |\n",
      "|Interest_rate_spread          |27479                         |mean                          |\n",
      "|Upfront_charges               |29744                         |mean                          |\n",
      "|term                          |29                            |mean                          |\n",
      "|Neg_ammortization             |90                            |                              |\n",
      "|property_value                |11268                         |mean                          |\n",
      "|income                        |6905                          |mean                          |\n",
      "|age                           |146                           |                              |\n",
      "|LTV                           |11268                         |mean                          |\n",
      "|dtir1                         |18079                         |mean                          |\n",
      "+------------------------------+------------------------------+------------------------------+\n",
      "\n",
      "********************************************************************************************\n",
      "\n",
      "TYPE:         High cardinality feature detection\n",
      "STATUS:       PASSED\n",
      "DESCRIPTION:  Your inputs were analyzed, and no high cardinality features were detected.\n",
      "              Learn more about high cardinality feature handling: https://aka.ms/AutomatedMLFeaturization\n",
      "\n",
      "********************************************************************************************\n",
      "\n",
      "********************************************************************************************\n",
      "ITER: The iteration being evaluated.\n",
      "PIPELINE: A summary description of the pipeline being evaluated.\n",
      "DURATION: Time taken for the current iteration.\n",
      "METRIC: The result of computing score on the fitted pipeline.\n",
      "BEST: The best observed score thus far.\n",
      "********************************************************************************************\n",
      "\n",
      " ITER   PIPELINE                                       DURATION            METRIC      BEST\n"
     ]
    },
    {
     "name": "stderr",
     "output_type": "stream",
     "text": [
      "WARNING:root:Received unrecognized parameter featureization\n"
     ]
    },
    {
     "name": "stdout",
     "output_type": "stream",
     "text": [
      "    0   MaxAbsScaler LightGBM                          0:00:19             1.0000    1.0000\n",
      "    1   MaxAbsScaler XGBoostClassifier                 0:00:24             1.0000    1.0000\n",
      "    2   MaxAbsScaler ExtremeRandomTrees                0:00:22             1.0000    1.0000\n",
      "    3    VotingEnsemble                                0:00:41             1.0000    1.0000\n",
      "    4    StackEnsemble                                 0:00:50             1.0000    1.0000\n"
     ]
    },
    {
     "data": {
      "text/plain": [
       "{'runId': 'AutoML_77ae1acb-3af5-4ec5-8249-a670f2657692',\n",
       " 'target': 'cluster',\n",
       " 'status': 'Completed',\n",
       " 'startTimeUtc': '2022-12-12T01:53:13.678182Z',\n",
       " 'endTimeUtc': '2022-12-12T02:09:36.638827Z',\n",
       " 'services': {},\n",
       " 'properties': {'num_iterations': '5',\n",
       "  'training_type': 'TrainFull',\n",
       "  'acquisition_function': 'EI',\n",
       "  'primary_metric': 'accuracy',\n",
       "  'train_split': '0.25',\n",
       "  'acquisition_parameter': '0',\n",
       "  'num_cross_validation': None,\n",
       "  'target': 'cluster',\n",
       "  'AMLSettingsJsonString': '{\"path\":null,\"name\":\"automlrun\",\"subscription_id\":\"1db33695-8135-4616-9bb4-9574b401d454\",\"resource_group\":\"azuremlsdk-rg01\",\"workspace_name\":\"azuremlsdk-ws01\",\"region\":\"eastus2\",\"compute_target\":\"cluster\",\"spark_service\":null,\"azure_service\":\"remote\",\"many_models\":false,\"pipeline_fetch_max_batch_size\":1,\"enable_batch_run\":true,\"enable_run_restructure\":false,\"start_auxiliary_runs_before_parent_complete\":false,\"enable_code_generation\":true,\"iterations\":5,\"primary_metric\":\"accuracy\",\"task_type\":\"classification\",\"positive_label\":null,\"data_script\":null,\"test_size\":0.0,\"test_include_predictions_only\":false,\"validation_size\":0.25,\"n_cross_validations\":null,\"y_min\":null,\"y_max\":null,\"num_classes\":null,\"featurization\":\"auto\",\"_ignore_package_version_incompatibilities\":false,\"is_timeseries\":false,\"max_cores_per_iteration\":1,\"max_concurrent_iterations\":1,\"iteration_timeout_minutes\":null,\"mem_in_mb\":null,\"enforce_time_on_windows\":true,\"experiment_timeout_minutes\":30,\"experiment_exit_score\":null,\"partition_column_names\":null,\"whitelist_models\":null,\"blacklist_algos\":[\"TensorFlowLinearClassifier\",\"TensorFlowDNN\"],\"supported_models\":[\"MultinomialNaiveBayes\",\"GradientBoosting\",\"TabnetClassifier\",\"KNN\",\"TensorFlowDNN\",\"SVM\",\"LinearSVM\",\"SGD\",\"XGBoostClassifier\",\"LogisticRegression\",\"ExtremeRandomTrees\",\"LightGBM\",\"TensorFlowLinearClassifier\",\"DecisionTree\",\"RandomForest\",\"AveragedPerceptronClassifier\",\"BernoulliNaiveBayes\"],\"private_models\":[],\"auto_blacklist\":true,\"blacklist_samples_reached\":false,\"exclude_nan_labels\":true,\"verbosity\":20,\"_debug_log\":\"azureml_automl.log\",\"show_warnings\":false,\"model_explainability\":true,\"service_url\":null,\"sdk_url\":null,\"sdk_packages\":null,\"enable_onnx_compatible_models\":false,\"enable_split_onnx_featurizer_estimator_models\":false,\"vm_type\":\"STANDARD_D2_V2\",\"telemetry_verbosity\":20,\"send_telemetry\":true,\"enable_dnn\":false,\"scenario\":\"SDK-1.13.0\",\"environment_label\":null,\"save_mlflow\":false,\"enable_categorical_indicators\":false,\"force_text_dnn\":false,\"enable_feature_sweeping\":true,\"enable_early_stopping\":true,\"early_stopping_n_iters\":10,\"arguments\":null,\"dataset_id\":\"a74ed425-18cc-4e50-854a-bb76fa21af43\",\"hyperdrive_config\":null,\"validation_dataset_id\":null,\"run_source\":null,\"metrics\":null,\"enable_metric_confidence\":false,\"enable_ensembling\":true,\"enable_stack_ensembling\":true,\"ensemble_iterations\":5,\"enable_tf\":false,\"enable_subsampling\":false,\"subsample_seed\":null,\"enable_nimbusml\":false,\"enable_streaming\":false,\"force_streaming\":false,\"track_child_runs\":true,\"allowed_private_models\":[],\"label_column_name\":\"Status\",\"weight_column_name\":null,\"cv_split_column_names\":null,\"enable_local_managed\":false,\"_local_managed_run_id\":null,\"cost_mode\":1,\"lag_length\":0,\"metric_operation\":\"maximize\",\"preprocess\":true,\"featureization\":\"auto\"}',\n",
       "  'DataPrepJsonString': '{\\\\\"training_data\\\\\": {\\\\\"datasetId\\\\\": \\\\\"a74ed425-18cc-4e50-854a-bb76fa21af43\\\\\"}, \\\\\"datasets\\\\\": 0}',\n",
       "  'EnableSubsampling': 'False',\n",
       "  'runTemplate': 'AutoML',\n",
       "  'azureml.runsource': 'automl',\n",
       "  'display_task_type': 'classification',\n",
       "  'dependencies_versions': '{\"azureml-train-restclients-hyperdrive\": \"1.43.0\", \"azureml-train-core\": \"1.43.0\", \"azureml-train-automl-client\": \"1.43.0\", \"azureml-telemetry\": \"1.43.0\", \"azureml-sdk\": \"1.43.0\", \"azureml-pipeline\": \"1.43.0\", \"azureml-pipeline-steps\": \"1.43.0\", \"azureml-pipeline-core\": \"1.43.0\", \"azureml-interpret\": \"1.44.0\", \"azureml-explain-model\": \"1.44.0\", \"azureml-dataset-runtime\": \"1.43.0.post2\", \"azureml-dataprep\": \"4.0.4\", \"azureml-dataprep-rslex\": \"2.6.3\", \"azureml-dataprep-native\": \"38.0.0\", \"azureml-core\": \"1.44.0\", \"azureml-automl-core\": \"1.43.0.post2\"}',\n",
       "  '_aml_system_scenario_identification': 'Remote.Parent',\n",
       "  'ClientType': 'SDK',\n",
       "  'environment_cpu_name': 'AzureML-AutoML',\n",
       "  'environment_cpu_label': 'prod',\n",
       "  'environment_gpu_name': 'AzureML-AutoML-GPU',\n",
       "  'environment_gpu_label': 'prod',\n",
       "  'root_attribution': 'automl',\n",
       "  'attribution': 'AutoML',\n",
       "  'Orchestrator': 'AutoML',\n",
       "  'CancelUri': 'https://eastus2.api.azureml.ms/jasmine/v1.0/subscriptions/1db33695-8135-4616-9bb4-9574b401d454/resourceGroups/azuremlsdk-rg01/providers/Microsoft.MachineLearningServices/workspaces/azuremlsdk-ws01/experimentids/bfccc03b-e687-4e6e-b33d-185c171de2ed/cancel/AutoML_77ae1acb-3af5-4ec5-8249-a670f2657692',\n",
       "  'ClientSdkVersion': '1.47.0',\n",
       "  'snapshotId': '00000000-0000-0000-0000-000000000000',\n",
       "  'SetupRunId': 'AutoML_77ae1acb-3af5-4ec5-8249-a670f2657692_setup',\n",
       "  'SetupRunContainerId': 'dcid.AutoML_77ae1acb-3af5-4ec5-8249-a670f2657692_setup',\n",
       "  'FeaturizationRunJsonPath': 'featurizer_container.json',\n",
       "  'FeaturizationRunId': 'AutoML_77ae1acb-3af5-4ec5-8249-a670f2657692_featurize',\n",
       "  'ProblemInfoJsonString': '{\"dataset_num_categorical\": 0, \"is_sparse\": true, \"subsampling\": false, \"has_extra_col\": true, \"dataset_classes\": 2, \"dataset_features\": 68, \"dataset_samples\": 111502, \"single_frequency_class_detected\": false}',\n",
       "  'ModelExplainRunId': 'AutoML_77ae1acb-3af5-4ec5-8249-a670f2657692_ModelExplain'},\n",
       " 'inputDatasets': [{'dataset': {'id': 'a74ed425-18cc-4e50-854a-bb76fa21af43'}, 'consumptionDetails': {'type': 'RunInput', 'inputName': 'training_data', 'mechanism': 'Direct'}}],\n",
       " 'outputDatasets': [],\n",
       " 'logFiles': {},\n",
       " 'submittedBy': 'Satyake Bakshi'}"
      ]
     },
     "execution_count": 37,
     "metadata": {},
     "output_type": "execute_result"
    }
   ],
   "source": [
    "\n",
    "#import automl\n",
    "from azureml.train.automl import AutoMLConfig\n",
    "\n",
    "automlconfig=AutoMLConfig(task='classification',primary_metric='accuracy',label_column_name='Status',training_data=dataset,validation_size=0.25,compute_target=compute,iterations=5,experiment_timeout_minutes=30,featureization='auto')\n",
    "experiment1=Experiment(workspace,'automlrun')\n",
    "automl_run=experiment1.submit(automlconfig,snapshot_directory=None)\n",
    "automl_run.wait_for_completion(show_output=True)"
   ]
  },
  {
   "cell_type": "code",
   "execution_count": 44,
   "metadata": {},
   "outputs": [
    {
     "name": "stderr",
     "output_type": "stream",
     "text": [
      "WARNING:root:Received unrecognized parameter featureization\n",
      "WARNING:root:Received unrecognized parameter featureization\n",
      "WARNING:root:Received unrecognized parameter featureization\n",
      "WARNING:root:Received unrecognized parameter featureization\n",
      "WARNING:root:Received unrecognized parameter featureization\n",
      "WARNING:root:The version of the SDK does not match the version the model was trained on.\n",
      "WARNING:root:The consistency in the result may not be guaranteed.\n",
      "WARNING:root:Package:azureml-automl-core, training version:1.47.0, current version:1.43.0.post2\n",
      "Package:azureml-core, training version:1.47.0, current version:1.44.0\n",
      "Package:azureml-dataprep, training version:4.5.7, current version:4.0.4\n",
      "Package:azureml-dataprep-rslex, training version:2.11.4, current version:2.6.3\n",
      "Package:azureml-dataset-runtime, training version:1.47.0, current version:1.43.0.post2\n",
      "Package:azureml-interpret, training version:1.47.0, current version:1.44.0\n",
      "Package:azureml-pipeline-core, training version:1.47.0, current version:1.43.0\n",
      "Package:azureml-telemetry, training version:1.47.0, current version:1.43.0\n",
      "Package:azureml-train-automl-client, training version:1.47.0, current version:1.43.0\n",
      "Package:azureml-train-core, training version:1.47.0, current version:1.43.0\n",
      "Package:azureml-train-restclients-hyperdrive, training version:1.47.0, current version:1.43.0\n",
      "WARNING:root:Below packages were used for model training but missing in current environment:\n",
      "WARNING:root:Package:azureml-automl-runtime, training version:1.47.0\n",
      "Package:azureml-defaults, training version:1.47.0\n",
      "Package:azureml-inference-server-http, training version:0.7.6\n",
      "Package:azureml-mlflow, training version:1.47.0\n",
      "Package:azureml-responsibleai, training version:1.47.0\n",
      "Package:azureml-train-automl-runtime, training version:1.47.0\n",
      "Package:azureml-training-tabular, training version:1.47.0\n",
      "WARNING:root:Please ensure the version of your local conda dependencies match the version on which your model was trained in order to properly retrieve your model.\n",
      "WARNING:root:The model you attempted to retrieve requires 'azureml-train-automl-runtime' to be installed at '==1.47.0'. Please install 'azureml-train-automl-runtime==1.47.0' (e.g. `pip install azureml-train-automl-runtime==1.47.0`) and then rerun the previous command.\n"
     ]
    }
   ],
   "source": [
    "#get best run automl\n",
    "automl_run.get_best_child()\n",
    "#save the model\n",
    "best_run, fitted_model=automl_run.get_output()\n",
    "#save the model\n"
   ]
  },
  {
   "cell_type": "code",
   "execution_count": 46,
   "metadata": {},
   "outputs": [],
   "source": [
    "#save model onnx\n",
    "\n",
    "#save model pickle\n",
    "import pickle\n",
    "with open('automl_model.pkl','wb') as f:\n",
    "    pickle.dump(fitted_model,f)\n"
   ]
  }
 ],
 "metadata": {
  "kernelspec": {
   "display_name": "tf-gpu-cuda8",
   "language": "python",
   "name": "python3"
  },
  "language_info": {
   "codemirror_mode": {
    "name": "ipython",
    "version": 3
   },
   "file_extension": ".py",
   "mimetype": "text/x-python",
   "name": "python",
   "nbconvert_exporter": "python",
   "pygments_lexer": "ipython3",
   "version": "3.7.0"
  },
  "orig_nbformat": 4,
  "vscode": {
   "interpreter": {
    "hash": "03f4ac3119e2450266d45ef487def59165e9739e84fca1acfa1dc135d1f5e0c7"
   }
  }
 },
 "nbformat": 4,
 "nbformat_minor": 2
}
